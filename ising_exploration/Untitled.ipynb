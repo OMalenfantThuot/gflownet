{
 "cells": [
  {
   "cell_type": "code",
   "execution_count": 1,
   "id": "abadca0e-9630-4730-b554-98523c33b80f",
   "metadata": {
    "tags": []
   },
   "outputs": [],
   "source": [
    "import torch\n",
    "from spin import create_J_matrix, SpinConfiguration\n",
    "from modeling import IsingEnergyModel, SimpleIsingTBFlowModel, create_input_batch\n",
    "import matplotlib.pyplot as plt\n",
    "import numpy as np"
   ]
  },
  {
   "cell_type": "code",
   "execution_count": 2,
   "id": "fdd28935-2777-4f81-bf11-97eb1f444968",
   "metadata": {
    "tags": []
   },
   "outputs": [],
   "source": [
    "device = \"cuda\" if torch.cuda.is_available() else \"cpu\""
   ]
  },
  {
   "cell_type": "code",
   "execution_count": 3,
   "id": "b0327f79-7d76-4b9a-87fc-47139d98a11a",
   "metadata": {
    "tags": []
   },
   "outputs": [],
   "source": [
    "N = 4\n",
    "J = create_J_matrix(N, sigma=1)"
   ]
  },
  {
   "cell_type": "code",
   "execution_count": 24,
   "id": "809955e2-18ff-4034-bdc4-fc020cfd3d46",
   "metadata": {
    "tags": []
   },
   "outputs": [],
   "source": [
    "base_values = np.array([-1]*N**2, dtype=int)\n",
    "magnetizations = []\n",
    "energies = []\n",
    "\n",
    "for i in range(2**(N**2)):\n",
    "    new_spins = 2 * np.array([int(char) for char in np.binary_repr(i)]) - 1\n",
    "    spin_values = base_values.copy()\n",
    "    spin_values[-new_spins.shape[0]:] = new_spins\n",
    "    spin_values = spin_values.reshape(N,N)\n",
    "    spin = SpinConfiguration(N=N, values=spin_values)\n",
    "    \n",
    "    energies.append(spin.get_energy(J))\n",
    "    magnetizations.append(spin.get_magnetization().abs())\n",
    "    \n",
    "energies = torch.stack(energies)\n",
    "magnetizations = torch.stack(magnetizations)"
   ]
  },
  {
   "cell_type": "code",
   "execution_count": 42,
   "id": "642851fe-2559-4456-9365-5a6c00e7a191",
   "metadata": {
    "tags": []
   },
   "outputs": [],
   "source": [
    "Ts = np.arange(1, 100)\n",
    "eff_magns = []\n",
    "\n",
    "for T in Ts:\n",
    "    relative_probs = torch.exp(-(1/T) * energies)\n",
    "    partition_function = torch.sum(relative_probs)\n",
    "    magn = torch.sum(magnetizations * relative_probs / partition_function)\n",
    "    eff_magns.append(magn)"
   ]
  },
  {
   "cell_type": "code",
   "execution_count": 45,
   "id": "ce5b9d92-16d7-4688-8eee-07add9beb56e",
   "metadata": {
    "tags": []
   },
   "outputs": [
    {
     "data": {
      "text/plain": [
       "[<matplotlib.lines.Line2D at 0x152d45420>]"
      ]
     },
     "execution_count": 45,
     "metadata": {},
     "output_type": "execute_result"
    },
    {
     "data": {
      "image/png": "[encoded data removed]",
      "text/plain": [
       "<Figure size 640x480 with 1 Axes>"
      ]
     },
     "metadata": {},
     "output_type": "display_data"
    }
   ],
   "source": [
    "plt.plot(np.arange(1, 100), eff_magns)"
   ]
  },
  {
   "cell_type": "code",
   "execution_count": 5,
   "id": "20fd02e0-17b4-4a65-a539-085785cd575c",
   "metadata": {
    "tags": []
   },
   "outputs": [
    {
     "data": {
      "text/plain": [
       "<All keys matched successfully>"
      ]
     },
     "execution_count": 5,
     "metadata": {},
     "output_type": "execute_result"
    }
   ],
   "source": [
    "model = SimpleIsingTBFlowModel(N=N)\n",
    "model.load_state_dict(torch.load(\"model_TB_N4_T5.pt\", map_location=device))"
   ]
  },
  {
   "cell_type": "code",
   "execution_count": 6,
   "id": "01220b4b-5e5e-44a6-bb22-f3f660cd873e",
   "metadata": {
    "tags": []
   },
   "outputs": [
    {
     "ename": "AttributeError",
     "evalue": "'SimpleIsingTBFlowModel' object has no attribute 'make_choice'",
     "output_type": "error",
     "traceback": [
      "\u001b[0;31m---------------------------------------------------------------------------\u001b[0m",
      "\u001b[0;31mAttributeError\u001b[0m                            Traceback (most recent call last)",
      "Cell \u001b[0;32mIn[6], line 5\u001b[0m\n\u001b[1;32m      3\u001b[0m model\u001b[38;5;241m.\u001b[39meval()\n\u001b[1;32m      4\u001b[0m \u001b[38;5;28;01mfor\u001b[39;00m _ \u001b[38;5;129;01min\u001b[39;00m \u001b[38;5;28mrange\u001b[39m(N\u001b[38;5;241m*\u001b[39m\u001b[38;5;241m*\u001b[39m\u001b[38;5;241m2\u001b[39m):\n\u001b[0;32m----> 5\u001b[0m     state \u001b[38;5;241m=\u001b[39m \u001b[43mmodel\u001b[49m\u001b[38;5;241;43m.\u001b[39;49m\u001b[43mmake_choice\u001b[49m(state)\n",
      "File \u001b[0;32m~/pyenvs/gflownet/lib/python3.10/site-packages/torch/nn/modules/module.py:1614\u001b[0m, in \u001b[0;36mModule.__getattr__\u001b[0;34m(self, name)\u001b[0m\n\u001b[1;32m   1612\u001b[0m     \u001b[38;5;28;01mif\u001b[39;00m name \u001b[38;5;129;01min\u001b[39;00m modules:\n\u001b[1;32m   1613\u001b[0m         \u001b[38;5;28;01mreturn\u001b[39;00m modules[name]\n\u001b[0;32m-> 1614\u001b[0m \u001b[38;5;28;01mraise\u001b[39;00m \u001b[38;5;167;01mAttributeError\u001b[39;00m(\u001b[38;5;124m\"\u001b[39m\u001b[38;5;124m'\u001b[39m\u001b[38;5;132;01m{}\u001b[39;00m\u001b[38;5;124m'\u001b[39m\u001b[38;5;124m object has no attribute \u001b[39m\u001b[38;5;124m'\u001b[39m\u001b[38;5;132;01m{}\u001b[39;00m\u001b[38;5;124m'\u001b[39m\u001b[38;5;124m\"\u001b[39m\u001b[38;5;241m.\u001b[39mformat(\n\u001b[1;32m   1615\u001b[0m     \u001b[38;5;28mtype\u001b[39m(\u001b[38;5;28mself\u001b[39m)\u001b[38;5;241m.\u001b[39m\u001b[38;5;18m__name__\u001b[39m, name))\n",
      "\u001b[0;31mAttributeError\u001b[0m: 'SimpleIsingTBFlowModel' object has no attribute 'make_choice'"
     ]
    }
   ],
   "source": [
    "state = create_input_batch(N=N, batch_size=100, device=device)\n",
    "\n",
    "model.eval()\n",
    "for _ in range(N**2):\n",
    "    state = model.make_choice(state)"
   ]
  },
  {
   "cell_type": "code",
   "execution_count": null,
   "id": "657b5a92-0d6f-416b-a43f-2fcac0c1a83f",
   "metadata": {},
   "outputs": [],
   "source": []
  }
 ],
 "metadata": {
  "kernelspec": {
   "display_name": "Python 3 (ipykernel)",
   "language": "python",
   "name": "python3"
  },
  "language_info": {
   "codemirror_mode": {
    "name": "ipython",
    "version": 3
   },
   "file_extension": ".py",
   "mimetype": "text/x-python",
   "name": "python",
   "nbconvert_exporter": "python",
   "pygments_lexer": "ipython3",
   "version": "3.10.10"
  }
 },
 "nbformat": 4,
 "nbformat_minor": 5
}
