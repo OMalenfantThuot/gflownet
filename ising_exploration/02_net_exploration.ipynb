{
 "cells": [
  {
   "cell_type": "code",
   "execution_count": 1,
   "id": "ff412437-e52f-49f1-83a0-41038f7dc4fa",
   "metadata": {},
   "outputs": [],
   "source": [
    "from spin import SpinConfiguration, create_J_matrix\n",
    "import torch\n",
    "import numpy as np\n",
    "import matplotlib.pyplot as plt"
   ]
  },
  {
   "cell_type": "markdown",
   "id": "7ad35a4a-421a-4047-a971-7dcd78d97e67",
   "metadata": {},
   "source": [
    "### Functions to go from network state to spins and vice-versa"
   ]
  },
  {
   "cell_type": "code",
   "execution_count": 2,
   "id": "ba60991f-f2dd-4458-b003-455bf292be97",
   "metadata": {},
   "outputs": [],
   "source": [
    "def spin_to_state(spin):\n",
    "    N = spin.values.shape[0]\n",
    "    state = torch.zeros((2*(N**2)))\n",
    "    state[:N**2][torch.where(spin.values.flatten()==1)] = 1\n",
    "    state[N**2:][torch.where(spin.values.flatten()==-1)] = 1\n",
    "    return state\n",
    "\n",
    "def state_to_spin(state):\n",
    "    N = int(np.sqrt(state.shape[0]/2))\n",
    "    values = torch.zeros(N**2, dtype=torch.float32)\n",
    "    values[torch.where(state[:N**2]==1)] = 1\n",
    "    values[torch.where(state[N**2:]==1)] = -1\n",
    "    spin = SpinConfiguration(N, values.reshape(N, N))\n",
    "    return spin\n",
    "\n",
    "def create_empty_state(N):\n",
    "    return torch.zeros(2*(N**2), dtype=torch.float32,requires_grad=True)\n",
    "\n",
    "def create_input_batch(N, batch_size):\n",
    "    return torch.cat([create_empty_state(N).reshape(1,-1)] * batch_size, dim=0)   "
   ]
  },
  {
   "cell_type": "markdown",
   "id": "89d53033-cbbf-438d-b750-50bf6ce260d8",
   "metadata": {},
   "source": [
    "### Simplest form of the model - no TB in this one"
   ]
  },
  {
   "cell_type": "code",
   "execution_count": 3,
   "id": "78f3fe3b-dd31-4cfe-a7d7-42dea98c275f",
   "metadata": {},
   "outputs": [],
   "source": [
    "class IsingSimpleFlowModel(torch.nn.Module):\n",
    "    def __init__(self, N, n_hidden=256):\n",
    "        super().__init__()\n",
    "        \n",
    "        self.N = N\n",
    "        self.net = torch.nn.Sequential(\n",
    "            torch.nn.Linear(2 * self.N**2, n_hidden),\n",
    "            torch.nn.LeakyReLU(),\n",
    "            torch.nn.Linear(n_hidden, 2 * self.N**2))\n",
    "        \n",
    "    def forward(self, state):\n",
    "        mask = torch.cat([state[:,:N**2] + state[:,N**2:]]*2, dim=-1)\n",
    "        probs = self.net(state).exp() * (1 - mask)\n",
    "        choice = torch.distributions.categorical.Categorical(probs=probs).sample()#, validate_args=False).sample()\n",
    "        state[torch.arange(state.shape[0], dtype=torch.int64), choice] = 1\n",
    "        return state"
   ]
  },
  {
   "cell_type": "markdown",
   "id": "2a81e358-0cb3-4c8d-9609-310467232d96",
   "metadata": {},
   "source": [
    "### Get the spin configurations and energies through a loop"
   ]
  },
  {
   "cell_type": "code",
   "execution_count": 4,
   "id": "3bc4ec2a-f1bc-4297-a02f-f155cc0cdf97",
   "metadata": {},
   "outputs": [
    {
     "data": {
      "image/png": "[encoded data removed]",
      "text/plain": [
       "<Figure size 2000x600 with 4 Axes>"
      ]
     },
     "metadata": {},
     "output_type": "display_data"
    }
   ],
   "source": [
    "N=10\n",
    "batch_size = 4\n",
    "J = create_J_matrix(N, sigma=1) #Ferromagnetic (-1 for antiferro)\n",
    "\n",
    "state = create_input_batch(N=N, batch_size=batch_size)\n",
    "model = IsingSimpleFlowModel(N=N)\n",
    "\n",
    "for _ in range(N**2):\n",
    "    state = model(state)\n",
    "\n",
    "spins = [state_to_spin(s) for s in state]\n",
    "energies = [sp.get_energy(J) for sp in spins]\n",
    "\n",
    "fig, ax = plt.subplots(figsize=(20, 6), ncols=batch_size)\n",
    "for i, sp in enumerate(spins):\n",
    "    ax[i].imshow(sp.values)\n",
    "    ax[i].set_title(f\"Energy: {energies[i]}\")"
   ]
  },
  {
   "cell_type": "markdown",
   "id": "a6020659-67ca-42f4-b48e-6c8bbe4c81b2",
   "metadata": {},
   "source": [
    "### Get the energy through a torch module for gradient computation (batched)"
   ]
  },
  {
   "cell_type": "code",
   "execution_count": 49,
   "id": "3c09b4ad-1c95-495b-9ace-d4caa3017704",
   "metadata": {},
   "outputs": [],
   "source": [
    "class IsingEnergyModel(torch.nn.Module):\n",
    "    def __init__(self, J):\n",
    "        super().__init__()\n",
    "        self.J = J\n",
    "        self.flatten = torch.nn.Flatten()\n",
    "        \n",
    "    def _batched_states_to_spins(self, states):\n",
    "        N = int(np.sqrt(states.shape[1]/2))\n",
    "        spin_values = states[...,:N**2] + -1 * states[...,N**2:]\n",
    "        return spin_values\n",
    "        \n",
    "    def forward(self, states):\n",
    "        spin_values = self._batched_states_to_spins(states)\n",
    "        energies = (-self.flatten(spin_values) @ self.J * self.flatten(spin_values)).sum(dim=-1)\n",
    "        return energies"
   ]
  },
  {
   "cell_type": "markdown",
   "id": "c3ecf53e-47a4-4675-a7b5-c957e30762ae",
   "metadata": {},
   "source": [
    "### Check that the energies are the same"
   ]
  },
  {
   "cell_type": "code",
   "execution_count": 50,
   "id": "c4e7e858-6981-442c-8271-de5cef1fee60",
   "metadata": {},
   "outputs": [
    {
     "data": {
      "text/plain": [
       "tensor([-16.,   0.,  24.,  -8.], grad_fn=<SumBackward1>)"
      ]
     },
     "execution_count": 50,
     "metadata": {},
     "output_type": "execute_result"
    }
   ],
   "source": [
    "energy_model = IsingEnergyModel(J)\n",
    "energy_model(state)"
   ]
  }
 ],
 "metadata": {
  "kernelspec": {
   "display_name": "Python 3 (ipykernel)",
   "language": "python",
   "name": "python3"
  },
  "language_info": {
   "codemirror_mode": {
    "name": "ipython",
    "version": 3
   },
   "file_extension": ".py",
   "mimetype": "text/x-python",
   "name": "python",
   "nbconvert_exporter": "python",
   "pygments_lexer": "ipython3",
   "version": "3.10.10"
  }
 },
 "nbformat": 4,
 "nbformat_minor": 5
}
