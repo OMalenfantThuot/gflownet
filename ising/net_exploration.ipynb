{
 "cells": [
  {
   "cell_type": "code",
   "execution_count": 2,
   "id": "ff412437-e52f-49f1-83a0-41038f7dc4fa",
   "metadata": {},
   "outputs": [],
   "source": [
    "from spin import SpinConfiguration, create_J_matrix\n",
    "import torch\n",
    "import numpy as np"
   ]
  },
  {
   "cell_type": "code",
   "execution_count": 61,
   "id": "ba60991f-f2dd-4458-b003-455bf292be97",
   "metadata": {},
   "outputs": [],
   "source": [
    "def spin_to_state(spin):\n",
    "    N = spin.values.shape[0]\n",
    "    state = torch.zeros((2*(N**2)))\n",
    "    state[:N**2][torch.where(spin.values.flatten()==1)] = 1\n",
    "    state[N**2:][torch.where(spin.values.flatten()==-1)] = 1\n",
    "    return state\n",
    "\n",
    "def state_to_spin(state):\n",
    "    N = int(np.sqrt(state.shape[0]/2))\n",
    "    values = torch.zeros(N**2, dtype=torch.float32)\n",
    "    values[torch.where(state[:N**2]==1)] = 1\n",
    "    values[torch.where(state[N**2:]==1)] = -1\n",
    "    spin = SpinConfiguration(N, values.reshape(N, N))\n",
    "    return spin\n",
    "\n",
    "def create_empty_state(N):\n",
    "    return torch.zeros(2*(N**2), dtype=torch.float32)"
   ]
  },
  {
   "cell_type": "code",
   "execution_count": 10,
   "id": "1a512e94-1991-4b84-9358-5823c45c0ce4",
   "metadata": {},
   "outputs": [],
   "source": [
    "class IsingGFlowNet(torch.nn.Module):\n",
    "    def __init__(self, N, n_hidden=256):\n",
    "        super(IsingGFlowNet).__init__()\n",
    "        \n",
    "        self.net = torch.nn.Sequential(\n",
    "            torch.nn.Linear(2 * N**2, n_hidden),\n",
    "            torch.nn.functional.prelu(),\n",
    "            torch.nn.Linear(n_hidden, 2 * N**2))\n",
    "        \n",
    "    def forward(self, x):\n",
    "        probs = self.net(x).exp() * (1 - torch.abs(x))\n",
    "        return state"
   ]
  },
  {
   "cell_type": "code",
   "execution_count": 8,
   "id": "05b5d98f-c37c-4218-99d4-834f5601941e",
   "metadata": {},
   "outputs": [],
   "source": [
    "update_frequency = 4\n",
    "N = 5\n",
    "J = create_J_matrix(N, sigma=1)"
   ]
  },
  {
   "cell_type": "code",
   "execution_count": null,
   "id": "e57efcb2-2893-42ab-9a91-a2fc8af56f02",
   "metadata": {},
   "outputs": [],
   "source": [
    "def training_loop:\n",
    "    init_state = create_empty_state(N)\n",
    "    "
   ]
  },
  {
   "cell_type": "code",
   "execution_count": null,
   "id": "71448c22-2d5f-4853-ac6a-c1c5e44e7899",
   "metadata": {},
   "outputs": [],
   "source": []
  },
  {
   "cell_type": "code",
   "execution_count": null,
   "id": "b92e9484-545e-4de7-9361-5f576ae67f39",
   "metadata": {},
   "outputs": [],
   "source": []
  }
 ],
 "metadata": {
  "kernelspec": {
   "display_name": "Python 3.9 GFlowNets Kernel",
   "language": "python",
   "name": "gflow"
  },
  "language_info": {
   "codemirror_mode": {
    "name": "ipython",
    "version": 3
   },
   "file_extension": ".py",
   "mimetype": "text/x-python",
   "name": "python",
   "nbconvert_exporter": "python",
   "pygments_lexer": "ipython3",
   "version": "3.9.6"
  }
 },
 "nbformat": 4,
 "nbformat_minor": 5
}
