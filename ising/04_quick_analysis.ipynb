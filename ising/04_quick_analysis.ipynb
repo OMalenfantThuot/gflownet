{
 "cells": [
  {
   "cell_type": "code",
   "execution_count": 1,
   "id": "eea8d320-687c-471b-8a18-8565a57272fa",
   "metadata": {},
   "outputs": [],
   "source": [
    "import torch\n",
    "from spin import create_J_matrix, SpinConfiguration\n",
    "from modeling import IsingEnergyModel, IsingSimpleFlowModel\n",
    "import matplotlib.pyplot as plt\n",
    "import numpy as np"
   ]
  },
  {
   "cell_type": "code",
   "execution_count": 2,
   "id": "dbdb55f4-beb2-47e7-bb12-b5f7eb9c6f8e",
   "metadata": {},
   "outputs": [],
   "source": [
    "device = \"cuda\" if torch.cuda.is_available() else \"cpu\""
   ]
  },
  {
   "cell_type": "code",
   "execution_count": 3,
   "id": "de9c118f-f815-4103-bd74-a0566178ff8f",
   "metadata": {},
   "outputs": [],
   "source": [
    "N = 3\n",
    "J = create_J_matrix(N, sigma=1)\n",
    "\n",
    "trained_model = IsingSimpleFlowModel(N=N).to(device)\n",
    "trained_model.load_state_dict(torch.load(\"model_no_TB_state_dict.pt\", map_location=device))\n",
    "\n",
    "random_model = IsingSimpleFlowModel(N=N).to(device)\n",
    "\n",
    "energy_model = IsingEnergyModel(J=J, device=device)"
   ]
  },
  {
   "cell_type": "code",
   "execution_count": 4,
   "id": "0410a44b-c9e0-4463-96e3-4f98829ea6df",
   "metadata": {},
   "outputs": [],
   "source": [
    "def create_empty_state(N):\n",
    "    return torch.zeros(2*(N**2), dtype=torch.float32, requires_grad=True)\n",
    "\n",
    "def create_input_batch(N, batch_size, device=\"cpu\"):\n",
    "    return torch.cat([create_empty_state(N).reshape(1,-1)] * batch_size, dim=0).to(device)"
   ]
  },
  {
   "cell_type": "code",
   "execution_count": 10,
   "id": "7e1f943d-e542-4bbd-a9d5-7f78afc23737",
   "metadata": {},
   "outputs": [],
   "source": [
    "def spin_to_state(spin):\n",
    "    N = spin.values.shape[0]\n",
    "    state = torch.zeros((2*(N**2)))\n",
    "    state[:N**2][torch.where(spin.values.flatten()==1)] = 1\n",
    "    state[N**2:][torch.where(spin.values.flatten()==-1)] = 1\n",
    "    return state\n",
    "\n",
    "def state_to_spin(state):\n",
    "    N = int(np.sqrt(state.shape[0]/2))\n",
    "    values = torch.zeros(N**2, dtype=torch.float32)\n",
    "    values[torch.where(state[:N**2]==1)] = 1\n",
    "    values[torch.where(state[N**2:]==1)] = -1\n",
    "    spin = SpinConfiguration(N, values.reshape(N, N))\n",
    "    return spin"
   ]
  },
  {
   "cell_type": "markdown",
   "id": "f912cc05-21ec-4122-a005-8b5d605b8cb6",
   "metadata": {},
   "source": [
    "### Exact partition function\n",
    "\n",
    "For non physical reward function (-10 * energy) if energy < 0"
   ]
  },
  {
   "cell_type": "code",
   "execution_count": 5,
   "id": "759ff172-a00a-4e0e-9333-34bb329ee674",
   "metadata": {},
   "outputs": [],
   "source": [
    "base_values = np.array([-1]*N**2, dtype=int)\n",
    "partition_function = 0\n",
    "\n",
    "for i in range(2**(N**2)):\n",
    "    new_spins = 2 * np.array([int(char) for char in np.binary_repr(i)]) - 1\n",
    "    spin_values = base_values.copy()\n",
    "    spin_values[-new_spins.shape[0]:] = new_spins\n",
    "    spin_values = spin_values.reshape(N,N)\n",
    "    \n",
    "    spin = SpinConfiguration(N=N, values=spin_values)\n",
    "    energy = spin.get_energy(J)\n",
    "    relative_prob = 10 * np.log(np.exp(-1 *energy))\n",
    "    if relative_prob > 0:\n",
    "        partition_function += relative_prob"
   ]
  },
  {
   "cell_type": "code",
   "execution_count": 6,
   "id": "a060c656-365e-4154-abe0-17b997fb7a50",
   "metadata": {},
   "outputs": [
    {
     "data": {
      "text/plain": [
       "tensor(18000.)"
      ]
     },
     "execution_count": 6,
     "metadata": {},
     "output_type": "execute_result"
    }
   ],
   "source": [
    "partition_function"
   ]
  },
  {
   "cell_type": "code",
   "execution_count": 7,
   "id": "18f1a6eb-50f6-4f75-ace4-bc6129cb1a64",
   "metadata": {},
   "outputs": [],
   "source": [
    "exact_prob_dict = {}\n",
    "for i in range(2**(N**2)):\n",
    "    new_spins = 2 * np.array([int(char) for char in np.binary_repr(i)]) - 1\n",
    "    spin_values = base_values.copy()\n",
    "    spin_values[-new_spins.shape[0]:] = new_spins\n",
    "    spin_values = spin_values.reshape(N,N)\n",
    "    \n",
    "    spin = SpinConfiguration(N=N, values=spin_values)\n",
    "    energy = spin.get_energy(J)\n",
    "    probability = -10 * energy/partition_function\n",
    "    \n",
    "    if probability > 0:\n",
    "        if str(energy.item()) in exact_prob_dict.keys():\n",
    "            exact_prob_dict[str(energy.item())] += probability\n",
    "        else:\n",
    "            exact_prob_dict[str(energy.item())] = probability"
   ]
  },
  {
   "cell_type": "code",
   "execution_count": 38,
   "id": "12dba89c-6395-41f1-bf53-e01124c097db",
   "metadata": {},
   "outputs": [],
   "source": [
    "for k in exact_prob_dict.keys():\n",
    "    exact_prob_dict[k] = exact_prob_dict[k].item()"
   ]
  },
  {
   "cell_type": "code",
   "execution_count": 39,
   "id": "8482d730-2dc7-465e-a11d-c5870537fe8a",
   "metadata": {},
   "outputs": [
    {
     "data": {
      "text/plain": [
       "{'-36.0': 0.03999999910593033,\n",
       " '-20.0': 0.20000000298023224,\n",
       " '-12.0': 0.3199998438358307,\n",
       " '-4.0': 0.43999919295310974}"
      ]
     },
     "execution_count": 39,
     "metadata": {},
     "output_type": "execute_result"
    }
   ],
   "source": [
    "exact_prob_dict"
   ]
  },
  {
   "cell_type": "markdown",
   "id": "1a151185-3e45-429d-8d6c-149143596ab1",
   "metadata": {},
   "source": [
    "### Random model distribution"
   ]
  },
  {
   "cell_type": "code",
   "execution_count": 15,
   "id": "b536cf6d-5dfc-4e22-97c7-b21dea4ee5d6",
   "metadata": {},
   "outputs": [],
   "source": [
    "state = create_input_batch(N=N, batch_size=10000, device=device)\n",
    "\n",
    "random_model.eval()\n",
    "for _ in range(N**2):\n",
    "    state = random_model.make_choice(state)\n",
    "    \n",
    "spins = [state_to_spin(s) for s in state]\n",
    "energies = [sp.get_energy(J) for sp in spins]"
   ]
  },
  {
   "cell_type": "code",
   "execution_count": 16,
   "id": "6173b516-cac5-44a2-85e1-a4f584ced1ee",
   "metadata": {},
   "outputs": [],
   "source": [
    "random_prob_dict = {}\n",
    "for e in energies:\n",
    "    if str(e.item()) in random_prob_dict.keys():\n",
    "        random_prob_dict[str(e.item())] += 1\n",
    "    else:\n",
    "        random_prob_dict[str(e.item())] = 1"
   ]
  },
  {
   "cell_type": "code",
   "execution_count": 17,
   "id": "2525cb8b-0127-49ad-8254-0c3c72a9ee5b",
   "metadata": {},
   "outputs": [
    {
     "data": {
      "text/plain": [
       "{'12.0': 2021,\n",
       " '-4.0': 3858,\n",
       " '-12.0': 965,\n",
       " '4.0': 2760,\n",
       " '-36.0': 33,\n",
       " '-20.0': 363}"
      ]
     },
     "execution_count": 17,
     "metadata": {},
     "output_type": "execute_result"
    }
   ],
   "source": [
    "random_prob_dict"
   ]
  },
  {
   "cell_type": "markdown",
   "id": "30b1f04d-ea95-4051-a7b6-94030d35f3a0",
   "metadata": {},
   "source": [
    "### Trained model distribution"
   ]
  },
  {
   "cell_type": "code",
   "execution_count": 18,
   "id": "a64ca864-4bce-4b4e-821b-00c5cb2834c4",
   "metadata": {},
   "outputs": [],
   "source": [
    "state = create_input_batch(N=N, batch_size=10000, device=device)\n",
    "\n",
    "trained_model.eval()\n",
    "for _ in range(N**2):\n",
    "    state = trained_model.make_choice(state)\n",
    "    \n",
    "spins = [state_to_spin(s) for s in state]\n",
    "energies = [sp.get_energy(J) for sp in spins]"
   ]
  },
  {
   "cell_type": "code",
   "execution_count": 19,
   "id": "352020a6-88d8-4cd5-9971-a7b429edf47d",
   "metadata": {},
   "outputs": [],
   "source": [
    "trained_prob_dict = {}\n",
    "for e in energies:\n",
    "    if str(e.item()) in trained_prob_dict.keys():\n",
    "        trained_prob_dict[str(e.item())] += 1\n",
    "    else:\n",
    "        trained_prob_dict[str(e.item())] = 1"
   ]
  },
  {
   "cell_type": "code",
   "execution_count": 20,
   "id": "8474c3d4-d483-4fa3-80e9-8a24a6a6137a",
   "metadata": {},
   "outputs": [
    {
     "data": {
      "text/plain": [
       "{'-12.0': 647, '-20.0': 2951, '-36.0': 6217, '-4.0': 185}"
      ]
     },
     "execution_count": 20,
     "metadata": {},
     "output_type": "execute_result"
    }
   ],
   "source": [
    "trained_prob_dict"
   ]
  },
  {
   "cell_type": "markdown",
   "id": "c164685e-6073-4d69-b2fb-073ca5354422",
   "metadata": {},
   "source": [
    "### Comparison"
   ]
  },
  {
   "cell_type": "code",
   "execution_count": 28,
   "id": "12421926-6df2-46dc-8d03-b22d38b1a0f8",
   "metadata": {},
   "outputs": [],
   "source": [
    "random_model_dist = [[float(k)] * random_prob_dict[k] for k in random_prob_dict.keys()]\n",
    "random_model_dist = [item for sublist in random_model_dist for item in sublist]"
   ]
  },
  {
   "cell_type": "code",
   "execution_count": 34,
   "id": "c6023014-80cc-4354-80dc-0ab1ee9ee71b",
   "metadata": {},
   "outputs": [],
   "source": [
    "trained_model_dist = [[float(k)] * trained_prob_dict[k] for k in trained_prob_dict.keys()]\n",
    "trained_model_dist = [item for sublist in trained_model_dist for item in sublist]"
   ]
  },
  {
   "cell_type": "code",
   "execution_count": 42,
   "id": "91509bba-889a-42e2-82bb-dbc905740940",
   "metadata": {},
   "outputs": [],
   "source": [
    "exact_dist = [[float(k)] * int(exact_prob_dict[k] * 10000) for k in exact_prob_dict.keys()]\n",
    "exact_dist = [item for sublist in exact_dist for item in sublist]"
   ]
  },
  {
   "cell_type": "code",
   "execution_count": 50,
   "id": "2124bed6-1b32-47dd-b578-0644bc198ae3",
   "metadata": {},
   "outputs": [
    {
     "data": {
      "image/png": "[encoded data removed]",
      "text/plain": [
       "<Figure size 1000x800 with 1 Axes>"
      ]
     },
     "metadata": {},
     "output_type": "display_data"
    }
   ],
   "source": [
    "fig, ax = plt.subplots(figsize=(10,8))\n",
    "\n",
    "yrandom, xrandom = np.histogram(random_model_dist, bins=1000, range=(-38, 14), density=True)\n",
    "ytrained, xtrained = np.histogram(trained_model_dist, bins=1000, range=(-38, 14), density=True)\n",
    "yexact, xexact = np.histogram(exact_dist, bins=1000, range=(-38, 14), density=True)\n",
    "\n",
    "ax.plot(xrandom[1:], yrandom, label=\"Random model\")\n",
    "ax.plot(xtrained[1:] + 1, ytrained, label=\"Trained model\")\n",
    "ax.plot(xexact[1:] + 0.5, yexact, label=\"Exact (non physical) distribution\")\n",
    "\n",
    "ax.legend(fontsize=15)\n",
    "ax.set_ylim([0, None])\n",
    "ax.set_xlabel(\"Energy\", fontsize=15)\n",
    "ax.set_ylabel(\"Relative frequency\", fontsize=15)\n",
    "plt.show()"
   ]
  },
  {
   "cell_type": "code",
   "execution_count": null,
   "id": "fb4b904c-7308-43f6-bd23-3d6d4f7eb4b6",
   "metadata": {},
   "outputs": [],
   "source": []
  }
 ],
 "metadata": {
  "kernelspec": {
   "display_name": "Python 3.9 GFlowNets Kernel",
   "language": "python",
   "name": "gflow"
  },
  "language_info": {
   "codemirror_mode": {
    "name": "ipython",
    "version": 3
   },
   "file_extension": ".py",
   "mimetype": "text/x-python",
   "name": "python",
   "nbconvert_exporter": "python",
   "pygments_lexer": "ipython3",
   "version": "3.9.6"
  }
 },
 "nbformat": 4,
 "nbformat_minor": 5
}
